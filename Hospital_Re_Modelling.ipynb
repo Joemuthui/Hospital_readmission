{
  "cells": [
    {
      "cell_type": "code",
      "execution_count": null,
      "metadata": {
        "id": "60aNy-UoRw9B"
      },
      "outputs": [],
      "source": [
        "#links\n",
        "#https://www.discovery.co.za/wcm/discoverycoza/assets/medical-aid/benefit-information/2021/pmb-conditions-list-2021.pdf\n",
        "#http://www0.sun.ac.za/aotc/icd10/mf_icd10_codelist.php?start=1\n",
        "#https://bmcmedinformdecismak.biomedcentral.com/articles/10.1186/s12911-019-0734-y/tables/2"
      ]
    },
    {
      "cell_type": "code",
      "execution_count": null,
      "metadata": {
        "id": "clHdp1k6B2Vj"
      },
      "outputs": [],
      "source": [
        "#import some packages\n",
        "import pandas as pd\n",
        "import matplotlib.pyplot as plt\n",
        "import numpy as np\n",
        "from sklearn.preprocessing import LabelEncoder,OneHotEncoder\n",
        "from sklearn.metrics import confusion_matrix,roc_curve, roc_auc_score,accuracy_score\n",
        "import seaborn as sns\n",
        "#import scikitplot as skplt\n",
        "from sklearn.model_selection import train_test_split as tts\n",
        "from sklearn.ensemble import GradientBoostingClassifier as gbc"
      ]
    },
    {
      "cell_type": "code",
      "execution_count": null,
      "metadata": {
        "id": "2IoPWaMQ7H1r"
      },
      "outputs": [],
      "source": [
        "Test=pd.read_csv('/content/drive/Shareddrives/KeyHealth/Data/Training_Testing/Complete_test_set.csv')\n",
        "Train=pd.read_csv('/content/drive/Shareddrives/KeyHealth/Data/Training_Testing/Training_set.csv')\n",
        "\n",
        "#Train.head(2)"
      ]
    },
    {
      "cell_type": "code",
      "source": [
        "#Data Recieved:\n",
        "#1. Members Auths\n",
        "#2. Claims Data\n",
        "#3. Beneficiary conditions\n",
        "#4. Beneficiaries data\n",
        "\n",
        "#Key Info required for the Hospital Admission\n",
        "# 1. One year window period\n",
        "# 2. Number of admissions in last 6 months prior to the window period\n",
        "# 3. Number of medictaions used for the last three months before the window period\n",
        "# 4. Number of ED visits for the last 6 months\n",
        "# 5. Amount of money used by the patient for the last 12 months\n",
        "# 6. Suffering from from a List of heart related Conditions (ICD10)\n",
        "# 7. Age\n",
        "# 8. Race\n",
        "# 9. Province\n",
        "# 10. Marital Status\n"
      ],
      "metadata": {
        "id": "eipOpupgYxrE"
      },
      "execution_count": null,
      "outputs": []
    },
    {
      "cell_type": "code",
      "source": [
        "Train.columns"
      ],
      "metadata": {
        "id": "324i8JqbIWUi",
        "outputId": "d2d6d5b4-4e0d-4297-8b53-c7b75c7622bf",
        "colab": {
          "base_uri": "https://localhost:8080/"
        }
      },
      "execution_count": null,
      "outputs": [
        {
          "output_type": "execute_result",
          "data": {
            "text/plain": [
              "Index(['Member Number', 'Dependant', 'Gender', 'Age', 'Race', 'Mar Status',\n",
              "       'Province', 'HYPERTEN', 'HYPERLIP', 'DIAB2', 'Asthma', 'CAD',\n",
              "       'CARDIACF', 'Epilepsy', 'C902T', 'COPD', 'DIAB1', 'C900L', 'C209E',\n",
              "       'CARDIMYO', 'C284E', 'C901A', 'C903E', 'C901E', 'C915E', 'C26E',\n",
              "       'C314E', 'C907E', 'Cost12', 'No_meds', 'Total_services', 'Target'],\n",
              "      dtype='object')"
            ]
          },
          "metadata": {},
          "execution_count": 4
        }
      ]
    },
    {
      "cell_type": "code",
      "source": [],
      "metadata": {
        "id": "pmpK5Otjj0mj"
      },
      "execution_count": null,
      "outputs": []
    },
    {
      "cell_type": "markdown",
      "source": [
        "### Preprocessing the data"
      ],
      "metadata": {
        "id": "dGTbsjIKj1Dd"
      }
    },
    {
      "cell_type": "code",
      "execution_count": null,
      "metadata": {
        "id": "y960v0pyiXYz"
      },
      "outputs": [],
      "source": [
        "#drop the questio mark in the Training, Mar status\n",
        "Train1=Train[Train['Mar Status']!='?']"
      ]
    },
    {
      "cell_type": "code",
      "execution_count": null,
      "metadata": {
        "colab": {
          "base_uri": "https://localhost:8080/"
        },
        "id": "3-wQiQH4jFcN",
        "outputId": "9125604f-0eee-48dd-9443-061a8dc3d117"
      },
      "outputs": [
        {
          "output_type": "execute_result",
          "data": {
            "text/plain": [
              "(47770, 32)"
            ]
          },
          "metadata": {},
          "execution_count": 6
        }
      ],
      "source": [
        "#combine the two dataframes to do preprocessing\n",
        "frames = [Train1,Test]\n",
        "df_keys = pd.concat(frames,axis=0)\n",
        "\n",
        "df_keys.shape"
      ]
    },
    {
      "cell_type": "code",
      "execution_count": null,
      "metadata": {
        "id": "c8QIcXpNkUaV"
      },
      "outputs": [],
      "source": [
        "#we start with dummies\n",
        "Data=df_keys.drop('Target',axis=1)\n",
        "Target=df_keys['Target']"
      ]
    },
    {
      "cell_type": "code",
      "execution_count": null,
      "metadata": {
        "id": "C27VNj4hkxj6"
      },
      "outputs": [],
      "source": [
        "#gender\n",
        "encoder=LabelEncoder()\n",
        "Data['Gender']=encoder.fit_transform(Data['Gender'])"
      ]
    },
    {
      "cell_type": "code",
      "execution_count": null,
      "metadata": {
        "colab": {
          "base_uri": "https://localhost:8080/"
        },
        "id": "EUyi3rVQlL58",
        "outputId": "52f628e2-2dc7-41ff-e817-46fe21979f74"
      },
      "outputs": [
        {
          "output_type": "execute_result",
          "data": {
            "text/plain": [
              "(47770, 50)"
            ]
          },
          "metadata": {},
          "execution_count": 9
        }
      ],
      "source": [
        "Data2=pd.get_dummies(data=Data, columns=['Race', 'Mar Status','Province'])\n",
        "Data2['Target']=Target\n",
        "Data2.shape"
      ]
    },
    {
      "cell_type": "code",
      "execution_count": null,
      "metadata": {
        "id": "RvE6wg1bnqCM"
      },
      "outputs": [],
      "source": [
        "Train1=Data2[:23396]\n",
        "Test1=Data2[23396:]"
      ]
    },
    {
      "cell_type": "code",
      "execution_count": null,
      "metadata": {
        "id": "aaSALpLgn71-"
      },
      "outputs": [],
      "source": [
        "Train3=Train1.dropna(axis=0)"
      ]
    },
    {
      "cell_type": "code",
      "execution_count": null,
      "metadata": {
        "id": "Rtg5OYPxp3KT",
        "colab": {
          "base_uri": "https://localhost:8080/",
          "height": 317
        },
        "outputId": "7d3587e3-9220-4571-ac16-9fd8b8905c89"
      },
      "outputs": [
        {
          "output_type": "execute_result",
          "data": {
            "text/plain": [
              "   Member Number  Dependant  Gender   Age  HYPERTEN  HYPERLIP  DIAB2  Asthma  \\\n",
              "0      3563995.0        1.0       1  66.0         1         1      1       1   \n",
              "1       569855.0        2.0       0  70.0         1         1      0       1   \n",
              "2      3045760.0        1.0       1  80.0         1         1      1       0   \n",
              "3      3051192.0        1.0       1  79.0         1         1      0       1   \n",
              "4      3686051.0        2.0       0  62.0         1         1      1       0   \n",
              "\n",
              "   CAD  CARDIACF  ...  Province_FREE STATE  Province_GAUTENG  \\\n",
              "0    1         1  ...                    0                 1   \n",
              "1    0         1  ...                    1                 0   \n",
              "2    1         1  ...                    0                 1   \n",
              "3    1         1  ...                    0                 1   \n",
              "4    0         1  ...                    0                 1   \n",
              "\n",
              "   Province_KWAZULU-NATAL  Province_LIMPOPO  Province_MPUMALANGA  \\\n",
              "0                       0                 0                    0   \n",
              "1                       0                 0                    0   \n",
              "2                       0                 0                    0   \n",
              "3                       0                 0                    0   \n",
              "4                       0                 0                    0   \n",
              "\n",
              "   Province_NORTH WEST  Province_NORTHERN CAPE  Province_OTHER  \\\n",
              "0                    0                       0               0   \n",
              "1                    0                       0               0   \n",
              "2                    0                       0               0   \n",
              "3                    0                       0               0   \n",
              "4                    0                       0               0   \n",
              "\n",
              "   Province_WESTERN CAPE  Target  \n",
              "0                      0       0  \n",
              "1                      0       0  \n",
              "2                      0       0  \n",
              "3                      0       0  \n",
              "4                      0       0  \n",
              "\n",
              "[5 rows x 50 columns]"
            ],
            "text/html": [
              "\n",
              "  <div id=\"df-7fd69909-fa8f-45ee-9b51-4231827749b4\">\n",
              "    <div class=\"colab-df-container\">\n",
              "      <div>\n",
              "<style scoped>\n",
              "    .dataframe tbody tr th:only-of-type {\n",
              "        vertical-align: middle;\n",
              "    }\n",
              "\n",
              "    .dataframe tbody tr th {\n",
              "        vertical-align: top;\n",
              "    }\n",
              "\n",
              "    .dataframe thead th {\n",
              "        text-align: right;\n",
              "    }\n",
              "</style>\n",
              "<table border=\"1\" class=\"dataframe\">\n",
              "  <thead>\n",
              "    <tr style=\"text-align: right;\">\n",
              "      <th></th>\n",
              "      <th>Member Number</th>\n",
              "      <th>Dependant</th>\n",
              "      <th>Gender</th>\n",
              "      <th>Age</th>\n",
              "      <th>HYPERTEN</th>\n",
              "      <th>HYPERLIP</th>\n",
              "      <th>DIAB2</th>\n",
              "      <th>Asthma</th>\n",
              "      <th>CAD</th>\n",
              "      <th>CARDIACF</th>\n",
              "      <th>...</th>\n",
              "      <th>Province_FREE STATE</th>\n",
              "      <th>Province_GAUTENG</th>\n",
              "      <th>Province_KWAZULU-NATAL</th>\n",
              "      <th>Province_LIMPOPO</th>\n",
              "      <th>Province_MPUMALANGA</th>\n",
              "      <th>Province_NORTH WEST</th>\n",
              "      <th>Province_NORTHERN CAPE</th>\n",
              "      <th>Province_OTHER</th>\n",
              "      <th>Province_WESTERN CAPE</th>\n",
              "      <th>Target</th>\n",
              "    </tr>\n",
              "  </thead>\n",
              "  <tbody>\n",
              "    <tr>\n",
              "      <th>0</th>\n",
              "      <td>3563995.0</td>\n",
              "      <td>1.0</td>\n",
              "      <td>1</td>\n",
              "      <td>66.0</td>\n",
              "      <td>1</td>\n",
              "      <td>1</td>\n",
              "      <td>1</td>\n",
              "      <td>1</td>\n",
              "      <td>1</td>\n",
              "      <td>1</td>\n",
              "      <td>...</td>\n",
              "      <td>0</td>\n",
              "      <td>1</td>\n",
              "      <td>0</td>\n",
              "      <td>0</td>\n",
              "      <td>0</td>\n",
              "      <td>0</td>\n",
              "      <td>0</td>\n",
              "      <td>0</td>\n",
              "      <td>0</td>\n",
              "      <td>0</td>\n",
              "    </tr>\n",
              "    <tr>\n",
              "      <th>1</th>\n",
              "      <td>569855.0</td>\n",
              "      <td>2.0</td>\n",
              "      <td>0</td>\n",
              "      <td>70.0</td>\n",
              "      <td>1</td>\n",
              "      <td>1</td>\n",
              "      <td>0</td>\n",
              "      <td>1</td>\n",
              "      <td>0</td>\n",
              "      <td>1</td>\n",
              "      <td>...</td>\n",
              "      <td>1</td>\n",
              "      <td>0</td>\n",
              "      <td>0</td>\n",
              "      <td>0</td>\n",
              "      <td>0</td>\n",
              "      <td>0</td>\n",
              "      <td>0</td>\n",
              "      <td>0</td>\n",
              "      <td>0</td>\n",
              "      <td>0</td>\n",
              "    </tr>\n",
              "    <tr>\n",
              "      <th>2</th>\n",
              "      <td>3045760.0</td>\n",
              "      <td>1.0</td>\n",
              "      <td>1</td>\n",
              "      <td>80.0</td>\n",
              "      <td>1</td>\n",
              "      <td>1</td>\n",
              "      <td>1</td>\n",
              "      <td>0</td>\n",
              "      <td>1</td>\n",
              "      <td>1</td>\n",
              "      <td>...</td>\n",
              "      <td>0</td>\n",
              "      <td>1</td>\n",
              "      <td>0</td>\n",
              "      <td>0</td>\n",
              "      <td>0</td>\n",
              "      <td>0</td>\n",
              "      <td>0</td>\n",
              "      <td>0</td>\n",
              "      <td>0</td>\n",
              "      <td>0</td>\n",
              "    </tr>\n",
              "    <tr>\n",
              "      <th>3</th>\n",
              "      <td>3051192.0</td>\n",
              "      <td>1.0</td>\n",
              "      <td>1</td>\n",
              "      <td>79.0</td>\n",
              "      <td>1</td>\n",
              "      <td>1</td>\n",
              "      <td>0</td>\n",
              "      <td>1</td>\n",
              "      <td>1</td>\n",
              "      <td>1</td>\n",
              "      <td>...</td>\n",
              "      <td>0</td>\n",
              "      <td>1</td>\n",
              "      <td>0</td>\n",
              "      <td>0</td>\n",
              "      <td>0</td>\n",
              "      <td>0</td>\n",
              "      <td>0</td>\n",
              "      <td>0</td>\n",
              "      <td>0</td>\n",
              "      <td>0</td>\n",
              "    </tr>\n",
              "    <tr>\n",
              "      <th>4</th>\n",
              "      <td>3686051.0</td>\n",
              "      <td>2.0</td>\n",
              "      <td>0</td>\n",
              "      <td>62.0</td>\n",
              "      <td>1</td>\n",
              "      <td>1</td>\n",
              "      <td>1</td>\n",
              "      <td>0</td>\n",
              "      <td>0</td>\n",
              "      <td>1</td>\n",
              "      <td>...</td>\n",
              "      <td>0</td>\n",
              "      <td>1</td>\n",
              "      <td>0</td>\n",
              "      <td>0</td>\n",
              "      <td>0</td>\n",
              "      <td>0</td>\n",
              "      <td>0</td>\n",
              "      <td>0</td>\n",
              "      <td>0</td>\n",
              "      <td>0</td>\n",
              "    </tr>\n",
              "  </tbody>\n",
              "</table>\n",
              "<p>5 rows × 50 columns</p>\n",
              "</div>\n",
              "      <button class=\"colab-df-convert\" onclick=\"convertToInteractive('df-7fd69909-fa8f-45ee-9b51-4231827749b4')\"\n",
              "              title=\"Convert this dataframe to an interactive table.\"\n",
              "              style=\"display:none;\">\n",
              "        \n",
              "  <svg xmlns=\"http://www.w3.org/2000/svg\" height=\"24px\"viewBox=\"0 0 24 24\"\n",
              "       width=\"24px\">\n",
              "    <path d=\"M0 0h24v24H0V0z\" fill=\"none\"/>\n",
              "    <path d=\"M18.56 5.44l.94 2.06.94-2.06 2.06-.94-2.06-.94-.94-2.06-.94 2.06-2.06.94zm-11 1L8.5 8.5l.94-2.06 2.06-.94-2.06-.94L8.5 2.5l-.94 2.06-2.06.94zm10 10l.94 2.06.94-2.06 2.06-.94-2.06-.94-.94-2.06-.94 2.06-2.06.94z\"/><path d=\"M17.41 7.96l-1.37-1.37c-.4-.4-.92-.59-1.43-.59-.52 0-1.04.2-1.43.59L10.3 9.45l-7.72 7.72c-.78.78-.78 2.05 0 2.83L4 21.41c.39.39.9.59 1.41.59.51 0 1.02-.2 1.41-.59l7.78-7.78 2.81-2.81c.8-.78.8-2.07 0-2.86zM5.41 20L4 18.59l7.72-7.72 1.47 1.35L5.41 20z\"/>\n",
              "  </svg>\n",
              "      </button>\n",
              "      \n",
              "  <style>\n",
              "    .colab-df-container {\n",
              "      display:flex;\n",
              "      flex-wrap:wrap;\n",
              "      gap: 12px;\n",
              "    }\n",
              "\n",
              "    .colab-df-convert {\n",
              "      background-color: #E8F0FE;\n",
              "      border: none;\n",
              "      border-radius: 50%;\n",
              "      cursor: pointer;\n",
              "      display: none;\n",
              "      fill: #1967D2;\n",
              "      height: 32px;\n",
              "      padding: 0 0 0 0;\n",
              "      width: 32px;\n",
              "    }\n",
              "\n",
              "    .colab-df-convert:hover {\n",
              "      background-color: #E2EBFA;\n",
              "      box-shadow: 0px 1px 2px rgba(60, 64, 67, 0.3), 0px 1px 3px 1px rgba(60, 64, 67, 0.15);\n",
              "      fill: #174EA6;\n",
              "    }\n",
              "\n",
              "    [theme=dark] .colab-df-convert {\n",
              "      background-color: #3B4455;\n",
              "      fill: #D2E3FC;\n",
              "    }\n",
              "\n",
              "    [theme=dark] .colab-df-convert:hover {\n",
              "      background-color: #434B5C;\n",
              "      box-shadow: 0px 1px 3px 1px rgba(0, 0, 0, 0.15);\n",
              "      filter: drop-shadow(0px 1px 2px rgba(0, 0, 0, 0.3));\n",
              "      fill: #FFFFFF;\n",
              "    }\n",
              "  </style>\n",
              "\n",
              "      <script>\n",
              "        const buttonEl =\n",
              "          document.querySelector('#df-7fd69909-fa8f-45ee-9b51-4231827749b4 button.colab-df-convert');\n",
              "        buttonEl.style.display =\n",
              "          google.colab.kernel.accessAllowed ? 'block' : 'none';\n",
              "\n",
              "        async function convertToInteractive(key) {\n",
              "          const element = document.querySelector('#df-7fd69909-fa8f-45ee-9b51-4231827749b4');\n",
              "          const dataTable =\n",
              "            await google.colab.kernel.invokeFunction('convertToInteractive',\n",
              "                                                     [key], {});\n",
              "          if (!dataTable) return;\n",
              "\n",
              "          const docLinkHtml = 'Like what you see? Visit the ' +\n",
              "            '<a target=\"_blank\" href=https://colab.research.google.com/notebooks/data_table.ipynb>data table notebook</a>'\n",
              "            + ' to learn more about interactive tables.';\n",
              "          element.innerHTML = '';\n",
              "          dataTable['output_type'] = 'display_data';\n",
              "          await google.colab.output.renderOutput(dataTable, element);\n",
              "          const docLink = document.createElement('div');\n",
              "          docLink.innerHTML = docLinkHtml;\n",
              "          element.appendChild(docLink);\n",
              "        }\n",
              "      </script>\n",
              "    </div>\n",
              "  </div>\n",
              "  "
            ]
          },
          "metadata": {},
          "execution_count": 12
        }
      ],
      "source": [
        "Train3.head()"
      ]
    },
    {
      "cell_type": "code",
      "source": [
        "sum(Train3['Target'])"
      ],
      "metadata": {
        "id": "mHj3RxLCg5PQ",
        "colab": {
          "base_uri": "https://localhost:8080/"
        },
        "outputId": "a5de2918-0e39-456c-bb63-e8d3f1bb9415"
      },
      "execution_count": null,
      "outputs": [
        {
          "output_type": "execute_result",
          "data": {
            "text/plain": [
              "761"
            ]
          },
          "metadata": {},
          "execution_count": 16
        }
      ]
    },
    {
      "cell_type": "markdown",
      "metadata": {
        "id": "UQJyh-COVYCu"
      },
      "source": [
        "## Imbalance problem"
      ]
    },
    {
      "cell_type": "code",
      "execution_count": null,
      "metadata": {
        "colab": {
          "base_uri": "https://localhost:8080/",
          "height": 465
        },
        "id": "-gQOC7vHW1fa",
        "outputId": "d0998378-a036-455f-a30b-006b78b43f45"
      },
      "outputs": [
        {
          "output_type": "stream",
          "name": "stdout",
          "text": [
            "Counter({0: 22635, 1: 761})\n"
          ]
        },
        {
          "output_type": "display_data",
          "data": {
            "text/plain": [
              "<Figure size 640x480 with 1 Axes>"
            ],
            "image/png": "[encoded data removed]"
          },
          "metadata": {}
        }
      ],
      "source": [
        "# Generate and plot a synthetic imbalanced classification dataset\n",
        "from collections import Counter\n",
        "from sklearn.datasets import make_classification\n",
        "from matplotlib import pyplot\n",
        "from imblearn.over_sampling import SMOTE\n",
        "from imblearn.under_sampling import RandomUnderSampler\n",
        "from imblearn.pipeline import Pipeline\n",
        "from numpy import where\n",
        "# define dataset\n",
        "X= Train3.drop('Target',axis=1).values\n",
        "y=np.array(Train3.Target)\n",
        "counter = Counter(y)\n",
        "print(counter)\n",
        "# scatter plot of examples by class label\n",
        "for label, _ in counter.items():\n",
        "\trow_ix = where(y == label)[0]\n",
        "\tpyplot.scatter(X[row_ix, 0], X[row_ix, 1], label=str(label))\n",
        "pyplot.legend()\n",
        "pyplot.show()"
      ]
    },
    {
      "cell_type": "code",
      "execution_count": null,
      "metadata": {
        "colab": {
          "base_uri": "https://localhost:8080/",
          "height": 465
        },
        "id": "KKyLC9g5WZ3e",
        "outputId": "5315ca8f-00e0-48ba-c8d5-17077b6cd223"
      },
      "outputs": [
        {
          "output_type": "stream",
          "name": "stdout",
          "text": [
            "Counter({0: 22635, 1: 22635})\n"
          ]
        },
        {
          "output_type": "display_data",
          "data": {
            "text/plain": [
              "<Figure size 640x480 with 1 Axes>"
            ],
            "image/png": "[encoded data removed]"
          },
          "metadata": {}
        }
      ],
      "source": [
        "over = SMOTE(sampling_strategy=1)\n",
        "under = RandomUnderSampler(sampling_strategy=1)\n",
        "\n",
        "\n",
        "steps = [('o', over), ('u', under)]\n",
        "pipeline = Pipeline(steps=steps)\n",
        "\n",
        "# transform the dataset\n",
        "X, y = pipeline.fit_resample(X, y)\n",
        "# summarize the new class distribution\n",
        "counter = Counter(y)\n",
        "print(counter)\n",
        "# scatter plot of examples by class label\n",
        "for label, _ in counter.items():\n",
        "\trow_ix = where(y == label)[0]\n",
        "\tpyplot.scatter(X[row_ix, 0], X[row_ix, 1], label=str(label))\n",
        "pyplot.legend()\n",
        "pyplot.show()\n"
      ]
    },
    {
      "cell_type": "code",
      "source": [],
      "metadata": {
        "colab": {
          "base_uri": "https://localhost:8080/"
        },
        "id": "Ez3JRIDtlBqj",
        "outputId": "abe14600-6702-4986-d610-22a8a1ddaedb"
      },
      "execution_count": null,
      "outputs": [
        {
          "output_type": "execute_result",
          "data": {
            "text/plain": [
              "Counter({0: 4526, 1: 4526})"
            ]
          },
          "metadata": {},
          "execution_count": 25
        }
      ]
    },
    {
      "cell_type": "markdown",
      "metadata": {
        "id": "DR0NaHpXp4UN"
      },
      "source": [
        "##Naive BAYES"
      ]
    },
    {
      "cell_type": "code",
      "execution_count": null,
      "metadata": {
        "colab": {
          "base_uri": "https://localhost:8080/",
          "height": 600
        },
        "id": "36FNq7qAcWow",
        "outputId": "9198b431-1c96-43e2-8f7c-fd8a0583f6c7"
      },
      "outputs": [
        {
          "output_type": "stream",
          "name": "stderr",
          "text": [
            "/usr/local/lib/python3.7/dist-packages/sklearn/base.py:444: UserWarning: X has feature names, but GaussianNB was fitted without feature names\n",
            "  f\"X has feature names, but {self.__class__.__name__} was fitted without\"\n"
          ]
        },
        {
          "output_type": "display_data",
          "data": {
            "text/plain": [
              "<Figure size 432x288 with 2 Axes>"
            ],
            "image/png": "[encoded data removed]"
          },
          "metadata": {
            "needs_background": "light"
          }
        },
        {
          "output_type": "stream",
          "name": "stdout",
          "text": [
            "Accuracy 0.9250841060146058\n"
          ]
        },
        {
          "output_type": "stream",
          "name": "stderr",
          "text": [
            "/usr/local/lib/python3.7/dist-packages/sklearn/base.py:444: UserWarning: X has feature names, but GaussianNB was fitted without feature names\n",
            "  f\"X has feature names, but {self.__class__.__name__} was fitted without\"\n"
          ]
        },
        {
          "output_type": "display_data",
          "data": {
            "text/plain": [
              "<Figure size 432x288 with 1 Axes>"
            ],
            "image/png": "[encoded data removed]"
          },
          "metadata": {
            "needs_background": "light"
          }
        }
      ],
      "source": [
        "# training the model on training set\n",
        "from sklearn.naive_bayes import GaussianNB\n",
        "gnb = GaussianNB()\n",
        "# X_train=Train1.drop('Target',axis=1)\n",
        "# y_train=Train1.Target\n",
        "gnb.fit(X, y)\n",
        "\n",
        "#test\n",
        "X_test=Test1.drop('Target',axis=1)\n",
        "y_test=Test1.Target\n",
        "\n",
        "y_pred=gnb.predict(X_test)\n",
        "cm=confusion_matrix(y_test, y_pred)\n",
        "sns.heatmap(cm,annot=True)\n",
        "plt.show()\n",
        "\n",
        "print(\"Accuracy\", accuracy_score(y_test, y_pred))\n",
        "y_pred_proba = gnb.predict_proba(X_test)[::,1]\n",
        "fpr, tpr, _ = roc_curve(y_test,  y_pred_proba)\n",
        "auc = roc_auc_score(y_test, y_pred_proba)\n",
        "plt.plot(fpr,tpr,label=\"data 1, auc=\"+str(auc))\n",
        "plt.legend(loc=4)\n",
        "plt.show()\n"
      ]
    },
    {
      "cell_type": "markdown",
      "metadata": {
        "id": "87vAPr33p9yJ"
      },
      "source": [
        "## Logistic Regression"
      ]
    },
    {
      "cell_type": "code",
      "execution_count": null,
      "metadata": {
        "id": "hXkOnpKSZyOI"
      },
      "outputs": [],
      "source": [
        "X_train=X\n",
        "y_train=y\n",
        "dat=np.hstack((X_train,y_train.reshape(y_train.shape[0],1)))\n",
        "frame=pd.DataFrame(dat,columns=Train3.columns)\n",
        "frame=frame.sample(frac=1)"
      ]
    },
    {
      "cell_type": "code",
      "source": [
        "X_train.columns"
      ],
      "metadata": {
        "colab": {
          "base_uri": "https://localhost:8080/"
        },
        "id": "XI_eeMNX9H5l",
        "outputId": "b8b913c5-31fb-4a97-826e-07bc1254768c"
      },
      "execution_count": null,
      "outputs": [
        {
          "output_type": "execute_result",
          "data": {
            "text/plain": [
              "Index(['Gender', 'Age', 'HYPERTEN', 'HYPERLIP', 'DIAB2', 'Asthma', 'CAD',\n",
              "       'CARDIACF', 'Epilepsy', 'C902T', 'COPD', 'DIAB1', 'C900L', 'C209E',\n",
              "       'CARDIMYO', 'C284E', 'C901A', 'C903E', 'C901E', 'C915E', 'C26E',\n",
              "       'C314E', 'C907E', 'Cost12', 'No_meds', 'Total_services', 'Race_A',\n",
              "       'Race_B', 'Race_C', 'Race_I', 'Race_U', 'Race_W', 'Mar Status_D',\n",
              "       'Mar Status_M', 'Mar Status_P', 'Mar Status_S', 'Mar Status_W',\n",
              "       'Province_EASTERN CAPE', 'Province_FREE STATE', 'Province_GAUTENG',\n",
              "       'Province_KWAZULU-NATAL', 'Province_LIMPOPO', 'Province_MPUMALANGA',\n",
              "       'Province_NORTH WEST', 'Province_NORTHERN CAPE', 'Province_OTHER',\n",
              "       'Province_WESTERN CAPE'],\n",
              "      dtype='object')"
            ]
          },
          "metadata": {},
          "execution_count": 41
        }
      ]
    },
    {
      "cell_type": "code",
      "source": [
        "fet=['Gender', 'Age', 'HYPERTEN', 'HYPERLIP', 'DIAB2', 'Asthma', 'CAD',\n",
        "       'CARDIACF', 'Epilepsy', 'C902T', 'COPD', 'DIAB1', 'C900L', 'C209E',\n",
        "       'CARDIMYO', 'C284E', 'C901A', 'C903E', 'C901E', 'C915E', 'C26E',\n",
        "       'C314E', 'C907E', 'Cost12', 'No_meds', 'Total_services', 'Race_A',\n",
        "       'Race_B', 'Race_C', 'Race_I', 'Race_U', 'Race_W', 'Mar Status_D',\n",
        "       'Mar Status_M', 'Mar Status_P', 'Mar Status_S', 'Mar Status_W',\n",
        "       'Province_EASTERN CAPE', 'Province_FREE STATE', 'Province_GAUTENG',\n",
        "       'Province_KWAZULU-NATAL', 'Province_LIMPOPO', 'Province_MPUMALANGA',\n",
        "       'Province_NORTH WEST', 'Province_NORTHERN CAPE', 'Province_OTHER',\n",
        "       'Province_WESTERN CAPE']"
      ],
      "metadata": {
        "id": "rcDfSEIV9OcV"
      },
      "execution_count": null,
      "outputs": []
    },
    {
      "cell_type": "code",
      "execution_count": null,
      "metadata": {
        "colab": {
          "base_uri": "https://localhost:8080/",
          "height": 560
        },
        "id": "n19bXaGffG2A",
        "outputId": "8029b3b0-9eef-4462-8024-7a533334513d"
      },
      "outputs": [
        {
          "output_type": "display_data",
          "data": {
            "text/plain": [
              "<Figure size 432x288 with 2 Axes>"
            ],
            "image/png": "[encoded data removed]"
          },
          "metadata": {
            "needs_background": "light"
          }
        },
        {
          "output_type": "stream",
          "name": "stdout",
          "text": [
            "Accuracy 0.7494461311233281\n"
          ]
        },
        {
          "output_type": "display_data",
          "data": {
            "text/plain": [
              "<Figure size 432x288 with 1 Axes>"
            ],
            "image/png": "[encoded data removed]"
          },
          "metadata": {
            "needs_background": "light"
          }
        }
      ],
      "source": [
        "# training the model on training set\n",
        "from sklearn.linear_model import LogisticRegression\n",
        "lr = LogisticRegression(max_iter=100,solver='liblinear',penalty='l1')\n",
        "\n",
        "X_train=frame.drop(['Member Number','Dependant','Target'],axis=1)\n",
        "\n",
        "y_train=frame.Target\n",
        "lr.fit(X_train, y_train)\n",
        "# get importance\n",
        "\n",
        "#test\n",
        "X_test=Test1.drop('Target',axis=1)\n",
        "y_test=Test1.Target\n",
        "\n",
        "y_pred=lr.predict(X_test[fet])\n",
        "cm=confusion_matrix(y_test, y_pred)\n",
        "sns.heatmap(cm,annot=True)\n",
        "plt.show()\n",
        "\n",
        "y_pred_proba = lr.predict_proba(X_test[fet])[::,1]\n",
        "fpr, tpr, _ = roc_curve(y_test,  y_pred_proba)\n",
        "auc = roc_auc_score(y_test, y_pred_proba)\n",
        "print(\"Accuracy\", accuracy_score(y_test, y_pred))\n",
        "plt.plot(fpr,tpr,label=\"data 1, auc=\"+str(auc))\n",
        "\n",
        "plt.plot([0, 1], [0, 1], color=\"navy\", lw=2, linestyle=\"--\")\n",
        "plt.xlim([0.0, 1.0])\n",
        "plt.ylim([0.0, 1.05])\n",
        "plt.xlabel(\"False Positive Rate\")\n",
        "plt.ylabel(\"True Positive Rate\")\n",
        "plt.title(\"Receiver operating characteristic example\")\n",
        "plt.legend(loc=\"lower right\")\n",
        "\n",
        "plt.show()\n"
      ]
    },
    {
      "cell_type": "code",
      "source": [
        "from sklearn.metrics import classification_report\n",
        "print(classification_report(y_test, y_pred))"
      ],
      "metadata": {
        "id": "0uRfpfMCAfes",
        "colab": {
          "base_uri": "https://localhost:8080/"
        },
        "outputId": "1304ab8a-7674-4496-a36c-12af84d1a0df"
      },
      "execution_count": null,
      "outputs": [
        {
          "output_type": "stream",
          "name": "stdout",
          "text": [
            "              precision    recall  f1-score   support\n",
            "\n",
            "           0       0.98      0.75      0.85     23468\n",
            "           1       0.09      0.65      0.16       906\n",
            "\n",
            "    accuracy                           0.75     24374\n",
            "   macro avg       0.54      0.70      0.51     24374\n",
            "weighted avg       0.95      0.75      0.83     24374\n",
            "\n"
          ]
        }
      ]
    },
    {
      "cell_type": "markdown",
      "source": [
        "## Gains from LR"
      ],
      "metadata": {
        "id": "uwidd42_ckKO"
      }
    },
    {
      "cell_type": "code",
      "source": [
        "# get the total amount used on people who were admitted\n",
        "amount=Test1.groupby(['Target']).agg({'Cost12':'sum'})\n",
        "amount"
      ],
      "metadata": {
        "colab": {
          "base_uri": "https://localhost:8080/",
          "height": 143
        },
        "id": "AOAtoEuIcsJz",
        "outputId": "be2a510a-1c44-43b3-c6f3-6efbda4f74c4"
      },
      "execution_count": null,
      "outputs": [
        {
          "output_type": "execute_result",
          "data": {
            "text/plain": [
              "              Cost12\n",
              "Target              \n",
              "0       1.018214e+09\n",
              "1       1.032437e+08"
            ],
            "text/html": [
              "\n",
              "  <div id=\"df-8d95ea08-3d82-484e-b561-652e44063b85\">\n",
              "    <div class=\"colab-df-container\">\n",
              "      <div>\n",
              "<style scoped>\n",
              "    .dataframe tbody tr th:only-of-type {\n",
              "        vertical-align: middle;\n",
              "    }\n",
              "\n",
              "    .dataframe tbody tr th {\n",
              "        vertical-align: top;\n",
              "    }\n",
              "\n",
              "    .dataframe thead th {\n",
              "        text-align: right;\n",
              "    }\n",
              "</style>\n",
              "<table border=\"1\" class=\"dataframe\">\n",
              "  <thead>\n",
              "    <tr style=\"text-align: right;\">\n",
              "      <th></th>\n",
              "      <th>Cost12</th>\n",
              "    </tr>\n",
              "    <tr>\n",
              "      <th>Target</th>\n",
              "      <th></th>\n",
              "    </tr>\n",
              "  </thead>\n",
              "  <tbody>\n",
              "    <tr>\n",
              "      <th>0</th>\n",
              "      <td>1.018214e+09</td>\n",
              "    </tr>\n",
              "    <tr>\n",
              "      <th>1</th>\n",
              "      <td>1.032437e+08</td>\n",
              "    </tr>\n",
              "  </tbody>\n",
              "</table>\n",
              "</div>\n",
              "      <button class=\"colab-df-convert\" onclick=\"convertToInteractive('df-8d95ea08-3d82-484e-b561-652e44063b85')\"\n",
              "              title=\"Convert this dataframe to an interactive table.\"\n",
              "              style=\"display:none;\">\n",
              "        \n",
              "  <svg xmlns=\"http://www.w3.org/2000/svg\" height=\"24px\"viewBox=\"0 0 24 24\"\n",
              "       width=\"24px\">\n",
              "    <path d=\"M0 0h24v24H0V0z\" fill=\"none\"/>\n",
              "    <path d=\"M18.56 5.44l.94 2.06.94-2.06 2.06-.94-2.06-.94-.94-2.06-.94 2.06-2.06.94zm-11 1L8.5 8.5l.94-2.06 2.06-.94-2.06-.94L8.5 2.5l-.94 2.06-2.06.94zm10 10l.94 2.06.94-2.06 2.06-.94-2.06-.94-.94-2.06-.94 2.06-2.06.94z\"/><path d=\"M17.41 7.96l-1.37-1.37c-.4-.4-.92-.59-1.43-.59-.52 0-1.04.2-1.43.59L10.3 9.45l-7.72 7.72c-.78.78-.78 2.05 0 2.83L4 21.41c.39.39.9.59 1.41.59.51 0 1.02-.2 1.41-.59l7.78-7.78 2.81-2.81c.8-.78.8-2.07 0-2.86zM5.41 20L4 18.59l7.72-7.72 1.47 1.35L5.41 20z\"/>\n",
              "  </svg>\n",
              "      </button>\n",
              "      \n",
              "  <style>\n",
              "    .colab-df-container {\n",
              "      display:flex;\n",
              "      flex-wrap:wrap;\n",
              "      gap: 12px;\n",
              "    }\n",
              "\n",
              "    .colab-df-convert {\n",
              "      background-color: #E8F0FE;\n",
              "      border: none;\n",
              "      border-radius: 50%;\n",
              "      cursor: pointer;\n",
              "      display: none;\n",
              "      fill: #1967D2;\n",
              "      height: 32px;\n",
              "      padding: 0 0 0 0;\n",
              "      width: 32px;\n",
              "    }\n",
              "\n",
              "    .colab-df-convert:hover {\n",
              "      background-color: #E2EBFA;\n",
              "      box-shadow: 0px 1px 2px rgba(60, 64, 67, 0.3), 0px 1px 3px 1px rgba(60, 64, 67, 0.15);\n",
              "      fill: #174EA6;\n",
              "    }\n",
              "\n",
              "    [theme=dark] .colab-df-convert {\n",
              "      background-color: #3B4455;\n",
              "      fill: #D2E3FC;\n",
              "    }\n",
              "\n",
              "    [theme=dark] .colab-df-convert:hover {\n",
              "      background-color: #434B5C;\n",
              "      box-shadow: 0px 1px 3px 1px rgba(0, 0, 0, 0.15);\n",
              "      filter: drop-shadow(0px 1px 2px rgba(0, 0, 0, 0.3));\n",
              "      fill: #FFFFFF;\n",
              "    }\n",
              "  </style>\n",
              "\n",
              "      <script>\n",
              "        const buttonEl =\n",
              "          document.querySelector('#df-8d95ea08-3d82-484e-b561-652e44063b85 button.colab-df-convert');\n",
              "        buttonEl.style.display =\n",
              "          google.colab.kernel.accessAllowed ? 'block' : 'none';\n",
              "\n",
              "        async function convertToInteractive(key) {\n",
              "          const element = document.querySelector('#df-8d95ea08-3d82-484e-b561-652e44063b85');\n",
              "          const dataTable =\n",
              "            await google.colab.kernel.invokeFunction('convertToInteractive',\n",
              "                                                     [key], {});\n",
              "          if (!dataTable) return;\n",
              "\n",
              "          const docLinkHtml = 'Like what you see? Visit the ' +\n",
              "            '<a target=\"_blank\" href=https://colab.research.google.com/notebooks/data_table.ipynb>data table notebook</a>'\n",
              "            + ' to learn more about interactive tables.';\n",
              "          element.innerHTML = '';\n",
              "          dataTable['output_type'] = 'display_data';\n",
              "          await google.colab.output.renderOutput(dataTable, element);\n",
              "          const docLink = document.createElement('div');\n",
              "          docLink.innerHTML = docLinkHtml;\n",
              "          element.appendChild(docLink);\n",
              "        }\n",
              "      </script>\n",
              "    </div>\n",
              "  </div>\n",
              "  "
            ]
          },
          "metadata": {},
          "execution_count": 45
        }
      ]
    },
    {
      "cell_type": "code",
      "source": [
        "#This amount was used on\n",
        "num_pple=sum(Test1.Target)\n",
        "Model_pred=5.9e+02\n",
        "No_pple=2.5e+03+Model_pred\n",
        "frac=Model_pred/num_pple\n",
        "Amnt=1.032437e+08*frac\n",
        "print('Number of people being Monitored:',No_pple)\n",
        "print('People admitted in the Target Year:',num_pple)\n",
        "print('Number of people That the model predicted: ',Model_pred)\n",
        "print('Fraction :',frac)\n",
        "print('Amount that could have been saved :', int(Amnt))"
      ],
      "metadata": {
        "colab": {
          "base_uri": "https://localhost:8080/"
        },
        "id": "vx8GWBURdUId",
        "outputId": "9ce7fba7-1aa3-4afa-95ab-a5faaf949042"
      },
      "execution_count": null,
      "outputs": [
        {
          "output_type": "stream",
          "name": "stdout",
          "text": [
            "Number of people being Monitored: 3090.0\n",
            "People admitted in the Target Year: 906\n",
            "Number of people That the model predicted:  590.0\n",
            "Fraction : 0.6512141280353201\n",
            "Amount that could have been saved : 67233756\n"
          ]
        }
      ]
    },
    {
      "cell_type": "markdown",
      "metadata": {
        "id": "_CsnUncgsiFH"
      },
      "source": [
        "## K-NN"
      ]
    },
    {
      "cell_type": "code",
      "execution_count": null,
      "metadata": {
        "colab": {
          "base_uri": "https://localhost:8080/",
          "height": 530
        },
        "id": "C8vd2fCarjhT",
        "outputId": "631d239c-9742-4abe-b6f9-b80cdff58fef"
      },
      "outputs": [
        {
          "output_type": "display_data",
          "data": {
            "image/png": "[encoded data removed]",
            "text/plain": [
              "<Figure size 432x288 with 2 Axes>"
            ]
          },
          "metadata": {
            "needs_background": "light"
          }
        },
        {
          "output_type": "stream",
          "name": "stdout",
          "text": [
            "Accuracy 0.8689176991876589\n"
          ]
        },
        {
          "output_type": "display_data",
          "data": {
            "image/png": "[encoded data removed]",
            "text/plain": [
              "<Figure size 432x288 with 1 Axes>"
            ]
          },
          "metadata": {
            "needs_background": "light"
          }
        }
      ],
      "source": [
        "from sklearn.neighbors import KNeighborsClassifier\n",
        "gnb = KNeighborsClassifier(n_jobs=-1,n_neighbors=100)\n",
        "gnb.fit(X_train, y_train)\n",
        "\n",
        "#test\n",
        "X_test=Test1.drop(['Member Number','Dependant','Target'],axis=1)\n",
        "y_test=Test1.Target\n",
        "\n",
        "y_pred=gnb.predict(X_test)\n",
        "cm=confusion_matrix(y_test, y_pred)\n",
        "sns.heatmap(cm,annot=True)\n",
        "plt.show()\n",
        "\n",
        "\n",
        "y_pred_proba = gnb.predict_proba(X_test)[::,1]\n",
        "fpr, tpr, _ = roc_curve(y_test,  y_pred_proba)\n",
        "auc = roc_auc_score(y_test, y_pred_proba)\n",
        "print(\"Accuracy\", accuracy_score(y_test, y_pred))\n",
        "plt.plot(fpr,tpr,label=\"data 1, auc=\"+str(auc))\n",
        "plt.legend(loc=4)\n",
        "plt.show()"
      ]
    },
    {
      "cell_type": "markdown",
      "metadata": {
        "id": "qPulPc54u9Yz"
      },
      "source": [
        "## Decision Trees"
      ]
    },
    {
      "cell_type": "code",
      "execution_count": null,
      "metadata": {
        "colab": {
          "base_uri": "https://localhost:8080/",
          "height": 530
        },
        "id": "OFhbNvMju_DN",
        "outputId": "0e8235c3-e02c-467c-9c74-1c9959ec53df"
      },
      "outputs": [
        {
          "output_type": "display_data",
          "data": {
            "image/png": "[encoded data removed]",
            "text/plain": [
              "<Figure size 432x288 with 2 Axes>"
            ]
          },
          "metadata": {
            "needs_background": "light"
          }
        },
        {
          "output_type": "stream",
          "name": "stdout",
          "text": [
            "Accuracy 0.8494297201936489\n"
          ]
        },
        {
          "output_type": "display_data",
          "data": {
            "image/png": "[encoded data removed]",
            "text/plain": [
              "<Figure size 432x288 with 1 Axes>"
            ]
          },
          "metadata": {
            "needs_background": "light"
          }
        }
      ],
      "source": [
        "from sklearn.tree import DecisionTreeClassifier\n",
        "gnb = DecisionTreeClassifier(criterion='entropy',splitter='best',max_features='auto')\n",
        "# X_train=Train1.drop('Target',axis=1)\n",
        "# y_train=Train1.Target\n",
        "gnb.fit(X_train, y_train)\n",
        "\n",
        "#test\n",
        "X_test=Test1.drop(['Member Number','Dependant','Target'],axis=1)\n",
        "y_test=Test1.Target\n",
        "\n",
        "y_pred=gnb.predict(X_test)\n",
        "cm=confusion_matrix(y_test, y_pred)\n",
        "sns.heatmap(cm,annot=True)\n",
        "plt.show()\n",
        "\n",
        "y_pred_proba = gnb.predict_proba(X_test)[::,1]\n",
        "fpr, tpr, _ = roc_curve(y_test,  y_pred_proba)\n",
        "auc = roc_auc_score(y_test, y_pred_proba)\n",
        "print(\"Accuracy\", accuracy_score(y_test, y_pred))\n",
        "plt.plot(fpr,tpr,label=\"data 1, auc=\"+str(auc))\n",
        "plt.legend(loc=4)\n",
        "plt.show()\n"
      ]
    },
    {
      "cell_type": "code",
      "execution_count": null,
      "metadata": {
        "id": "j3BWU8e9wKP5"
      },
      "outputs": [],
      "source": [
        "gnb?"
      ]
    },
    {
      "cell_type": "markdown",
      "metadata": {
        "id": "vYgHAL9HwLIX"
      },
      "source": [
        "#ensemble with bagging"
      ]
    },
    {
      "cell_type": "code",
      "execution_count": null,
      "metadata": {
        "colab": {
          "base_uri": "https://localhost:8080/",
          "height": 530
        },
        "id": "_TEr1eRmvO5d",
        "outputId": "5f1ce9a1-1612-4d7a-ee99-04bd23280101"
      },
      "outputs": [
        {
          "output_type": "display_data",
          "data": {
            "image/png": "[encoded data removed]",
            "text/plain": [
              "<Figure size 432x288 with 2 Axes>"
            ]
          },
          "metadata": {
            "needs_background": "light"
          }
        },
        {
          "output_type": "stream",
          "name": "stdout",
          "text": [
            "Accuracy 0.9297201936489702\n"
          ]
        },
        {
          "output_type": "display_data",
          "data": {
            "image/png": "[encoded data removed]",
            "text/plain": [
              "<Figure size 432x288 with 1 Axes>"
            ]
          },
          "metadata": {
            "needs_background": "light"
          }
        }
      ],
      "source": [
        "from sklearn.ensemble import BaggingClassifier\n",
        "from sklearn.tree import DecisionTreeClassifier\n",
        "# max_samples: maximum size 0.5=50% of each sample taken from the full dataset\n",
        "# max_features: maximum of features 1=100% taken here all 10K\n",
        "# n_estimators: number of decision trees\n",
        "bg=BaggingClassifier(DecisionTreeClassifier(),max_samples=0.3,max_features=1.0,n_estimators=100)\n",
        "bg.fit(X_train, y_train)\n",
        "\n",
        "#test\n",
        "X_test=Test1.drop(['Member Number','Dependant','Target'],axis=1)\n",
        "y_test=Test1.Target\n",
        "\n",
        "y_pred=bg.predict(X_test)\n",
        "cm=confusion_matrix(y_test, y_pred)\n",
        "sns.heatmap(cm,annot=True)\n",
        "plt.show()\n",
        "\n",
        "y_pred_proba = bg.predict_proba(X_test)[::,1]\n",
        "fpr, tpr, _ = roc_curve(y_test,  y_pred_proba)\n",
        "auc = roc_auc_score(y_test, y_pred_proba)\n",
        "print(\"Accuracy\", accuracy_score(y_test, y_pred))\n",
        "plt.plot(fpr,tpr,label=\"data 1, auc=\"+str(auc))\n",
        "plt.legend(loc=4)\n",
        "plt.show()"
      ]
    },
    {
      "cell_type": "code",
      "execution_count": null,
      "metadata": {
        "id": "Hhce-uDqvatm"
      },
      "outputs": [],
      "source": []
    },
    {
      "cell_type": "markdown",
      "metadata": {
        "id": "qo1lwABWxhVB"
      },
      "source": [
        "## ensembe with Boosting"
      ]
    },
    {
      "cell_type": "code",
      "execution_count": null,
      "metadata": {
        "colab": {
          "base_uri": "https://localhost:8080/",
          "height": 534
        },
        "id": "D5_JTXiBxmPo",
        "outputId": "9e9e83aa-f226-44ff-f2d3-b911c5cfcf4b"
      },
      "outputs": [
        {
          "output_type": "display_data",
          "data": {
            "image/png": "[encoded data removed]",
            "text/plain": [
              "<Figure size 432x288 with 2 Axes>"
            ]
          },
          "metadata": {
            "needs_background": "light"
          }
        },
        {
          "output_type": "stream",
          "name": "stdout",
          "text": [
            "Accuracy 0.8342496102404201\n"
          ]
        },
        {
          "output_type": "display_data",
          "data": {
            "image/png": "[encoded data removed]",
            "text/plain": [
              "<Figure size 432x288 with 1 Axes>"
            ]
          },
          "metadata": {
            "needs_background": "light"
          }
        }
      ],
      "source": [
        "from sklearn.ensemble import AdaBoostClassifier\n",
        "from sklearn.tree import DecisionTreeClassifier\n",
        "adb = AdaBoostClassifier(DecisionTreeClassifier(min_samples_split=2,max_depth=50),n_estimators=100,learning_rate=0.02)\n",
        "adb.fit(X_train, y_train)\n",
        "\n",
        "y_pred=adb.predict(X_test)\n",
        "cm=confusion_matrix(y_test, y_pred)\n",
        "sns.heatmap(cm,annot=True)\n",
        "plt.show()\n",
        "\n",
        "y_pred_proba = adb.predict_proba(X_test)[::,1]\n",
        "fpr, tpr, _ = roc_curve(y_test,  y_pred_proba)\n",
        "auc = roc_auc_score(y_test, y_pred_proba)\n",
        "print(\"Accuracy\", accuracy_score(y_test, y_pred))\n",
        "plt.plot(fpr,tpr,label=\"data 1, auc=\"+str(auc))\n",
        "plt.legend(loc=4)\n",
        "plt.show()"
      ]
    },
    {
      "cell_type": "code",
      "execution_count": null,
      "metadata": {
        "id": "aoWY5nBoxxXs"
      },
      "outputs": [],
      "source": []
    },
    {
      "cell_type": "markdown",
      "metadata": {
        "id": "ualPaT2KyvXG"
      },
      "source": [
        "# Random Forest"
      ]
    },
    {
      "cell_type": "code",
      "execution_count": null,
      "metadata": {
        "colab": {
          "base_uri": "https://localhost:8080/",
          "height": 530
        },
        "id": "9DSakMRLyzQz",
        "outputId": "3003f9fb-af24-4a64-efa3-6db0790c91bc"
      },
      "outputs": [
        {
          "output_type": "display_data",
          "data": {
            "image/png": "[encoded data removed]",
            "text/plain": [
              "<Figure size 432x288 with 2 Axes>"
            ]
          },
          "metadata": {
            "needs_background": "light"
          }
        },
        {
          "output_type": "stream",
          "name": "stdout",
          "text": [
            "Accuracy 0.9387051776483137\n"
          ]
        },
        {
          "output_type": "display_data",
          "data": {
            "image/png": "[encoded data removed]",
            "text/plain": [
              "<Figure size 432x288 with 1 Axes>"
            ]
          },
          "metadata": {
            "needs_background": "light"
          }
        }
      ],
      "source": [
        "from sklearn.ensemble import RandomForestClassifier# n_estimators = number of decision trees\n",
        "rf = RandomForestClassifier(n_estimators=200)\n",
        "rf.fit(X_train, y_train)\n",
        "\n",
        "y_pred=rf.predict(X_test)\n",
        "cm=confusion_matrix(y_test, y_pred)\n",
        "sns.heatmap(cm,annot=True)\n",
        "plt.show()\n",
        "\n",
        "y_pred_proba = rf.predict_proba(X_test)[::,1]\n",
        "fpr, tpr, _ = roc_curve(y_test,  y_pred_proba)\n",
        "auc = roc_auc_score(y_test, y_pred_proba)\n",
        "print(\"Accuracy\", accuracy_score(y_test, y_pred))\n",
        "plt.plot(fpr,tpr,label=\"data 1, auc=\"+str(auc))\n",
        "plt.legend(loc=4)\n",
        "plt.show()"
      ]
    },
    {
      "cell_type": "code",
      "execution_count": null,
      "metadata": {
        "id": "LndfMCVT1O2z"
      },
      "outputs": [],
      "source": []
    },
    {
      "cell_type": "markdown",
      "metadata": {
        "id": "6ly-DnB61-0_"
      },
      "source": [
        "## Gradient Boosting Technique"
      ]
    },
    {
      "cell_type": "code",
      "execution_count": null,
      "metadata": {
        "colab": {
          "base_uri": "https://localhost:8080/",
          "height": 530
        },
        "id": "fU0gC_sa1_oz",
        "outputId": "263218f4-f738-44db-d937-0fc3fa545cdf"
      },
      "outputs": [
        {
          "output_type": "display_data",
          "data": {
            "image/png": "[encoded data removed]",
            "text/plain": [
              "<Figure size 432x288 with 2 Axes>"
            ]
          },
          "metadata": {
            "needs_background": "light"
          }
        },
        {
          "output_type": "stream",
          "name": "stdout",
          "text": [
            "Accuracy 0.9427258554197095\n"
          ]
        },
        {
          "output_type": "display_data",
          "data": {
            "image/png": "[encoded data removed]",
            "text/plain": [
              "<Figure size 432x288 with 1 Axes>"
            ]
          },
          "metadata": {
            "needs_background": "light"
          }
        }
      ],
      "source": [
        "model=gbc()\n",
        "model.fit(X_train,y_train)\n",
        "y_pred=model.predict(X_test).astype('int')\n",
        "cm=confusion_matrix(y_test, y_pred)\n",
        "sns.heatmap(cm,annot=True)\n",
        "plt.show()\n",
        "\n",
        "y_pred_proba = model.predict_proba(X_test)[::,1]\n",
        "fpr, tpr, _ = roc_curve(y_test,  y_pred_proba)\n",
        "auc = roc_auc_score(y_test, y_pred_proba)\n",
        "print(\"Accuracy\", accuracy_score(y_test, y_pred))\n",
        "plt.plot(fpr,tpr,label=\"data 1, auc=\"+str(auc))\n",
        "plt.legend(loc=4)\n",
        "plt.show()"
      ]
    },
    {
      "cell_type": "markdown",
      "source": [
        "## NN"
      ],
      "metadata": {
        "id": "rgkVpC4T62XJ"
      }
    },
    {
      "cell_type": "code",
      "source": [
        "X.shape"
      ],
      "metadata": {
        "colab": {
          "base_uri": "https://localhost:8080/"
        },
        "id": "QfFUuPuPCnu1",
        "outputId": "5299fd22-0ef1-471b-dd99-068fcd0f8bae"
      },
      "execution_count": null,
      "outputs": [
        {
          "output_type": "execute_result",
          "data": {
            "text/plain": [
              "(9052, 49)"
            ]
          },
          "metadata": {},
          "execution_count": 82
        }
      ]
    },
    {
      "cell_type": "code",
      "source": [
        "X_train.shape"
      ],
      "metadata": {
        "colab": {
          "base_uri": "https://localhost:8080/"
        },
        "id": "Z0TQDrzSC1Xz",
        "outputId": "1ea077e4-1671-45a8-f764-46f7ed8aabf4"
      },
      "execution_count": null,
      "outputs": [
        {
          "output_type": "execute_result",
          "data": {
            "text/plain": [
              "(9052, 47)"
            ]
          },
          "metadata": {},
          "execution_count": 83
        }
      ]
    },
    {
      "cell_type": "code",
      "source": [
        "import tensorflow as tf\n",
        "#tf.set_random_seed(1234)\n",
        "\n",
        "import keras\n",
        "from keras.models import Sequential\n",
        "from keras.layers import Dense\n",
        "#from keras.layers import LSTM, SimpleRNN\n",
        "from sklearn.metrics import mean_squared_error , accuracy_score\n",
        "\n",
        "\n",
        "readmission = Sequential()\n",
        "readmission.add(Dense(X_train.shape[0], activation='relu')),\n",
        "\n",
        "readmission.add(Dense(2, activation='softmax'))\n",
        "\n",
        "readmission.compile(optimizer='adam',loss='sparse_categorical_crossentropy',metrics=['accuracy'])\n",
        "\n",
        "history=readmission.fit(X_train , y_train,validation_split=0.2 , epochs =25,verbose=1)"
      ],
      "metadata": {
        "colab": {
          "base_uri": "https://localhost:8080/"
        },
        "id": "aPO4Bg5L64lR",
        "outputId": "bdb43efa-7a34-4968-d997-472b7272a0f9"
      },
      "execution_count": null,
      "outputs": [
        {
          "output_type": "stream",
          "name": "stdout",
          "text": [
            "Epoch 1/25\n",
            "227/227 [==============================] - 3s 10ms/step - loss: 1135.9346 - accuracy: 0.5385 - val_loss: 191.2592 - val_accuracy: 0.6278\n",
            "Epoch 2/25\n",
            "227/227 [==============================] - 4s 19ms/step - loss: 330.8417 - accuracy: 0.5774 - val_loss: 375.8175 - val_accuracy: 0.5511\n",
            "Epoch 3/25\n",
            "227/227 [==============================] - 3s 11ms/step - loss: 171.7818 - accuracy: 0.5792 - val_loss: 69.6915 - val_accuracy: 0.6400\n",
            "Epoch 4/25\n",
            "227/227 [==============================] - 2s 10ms/step - loss: 143.7998 - accuracy: 0.5785 - val_loss: 25.1552 - val_accuracy: 0.6400\n",
            "Epoch 5/25\n",
            "227/227 [==============================] - 2s 9ms/step - loss: 82.7723 - accuracy: 0.5890 - val_loss: 45.5112 - val_accuracy: 0.6300\n",
            "Epoch 6/25\n",
            "227/227 [==============================] - 2s 9ms/step - loss: 48.6589 - accuracy: 0.5925 - val_loss: 9.8016 - val_accuracy: 0.6483\n",
            "Epoch 7/25\n",
            "227/227 [==============================] - 2s 8ms/step - loss: 55.0766 - accuracy: 0.5817 - val_loss: 38.2044 - val_accuracy: 0.6195\n",
            "Epoch 8/25\n",
            "227/227 [==============================] - 1s 6ms/step - loss: 43.4236 - accuracy: 0.5904 - val_loss: 58.9938 - val_accuracy: 0.5014\n",
            "Epoch 9/25\n",
            "227/227 [==============================] - 1s 6ms/step - loss: 78.1095 - accuracy: 0.5722 - val_loss: 96.7542 - val_accuracy: 0.5693\n",
            "Epoch 10/25\n",
            "227/227 [==============================] - 1s 6ms/step - loss: 40.3228 - accuracy: 0.5780 - val_loss: 32.9983 - val_accuracy: 0.6284\n",
            "Epoch 11/25\n",
            "227/227 [==============================] - 1s 6ms/step - loss: 47.9804 - accuracy: 0.5711 - val_loss: 37.4906 - val_accuracy: 0.6190\n",
            "Epoch 12/25\n",
            "227/227 [==============================] - 1s 6ms/step - loss: 28.5674 - accuracy: 0.5932 - val_loss: 7.3250 - val_accuracy: 0.6466\n",
            "Epoch 13/25\n",
            "227/227 [==============================] - 1s 6ms/step - loss: 25.3555 - accuracy: 0.5908 - val_loss: 4.4514 - val_accuracy: 0.5378\n",
            "Epoch 14/25\n",
            "227/227 [==============================] - 1s 6ms/step - loss: 14.6139 - accuracy: 0.5907 - val_loss: 11.5301 - val_accuracy: 0.5831\n",
            "Epoch 15/25\n",
            "227/227 [==============================] - 1s 6ms/step - loss: 10.3712 - accuracy: 0.5940 - val_loss: 1.6690 - val_accuracy: 0.6311\n",
            "Epoch 16/25\n",
            "227/227 [==============================] - 1s 6ms/step - loss: 7.6573 - accuracy: 0.5920 - val_loss: 12.1458 - val_accuracy: 0.5831\n",
            "Epoch 17/25\n",
            "227/227 [==============================] - 2s 7ms/step - loss: 5.0401 - accuracy: 0.6100 - val_loss: 0.9253 - val_accuracy: 0.6477\n",
            "Epoch 18/25\n",
            "227/227 [==============================] - 1s 6ms/step - loss: 2.8657 - accuracy: 0.6212 - val_loss: 3.2294 - val_accuracy: 0.6372\n",
            "Epoch 19/25\n",
            "227/227 [==============================] - 1s 6ms/step - loss: 3.4836 - accuracy: 0.6110 - val_loss: 0.7930 - val_accuracy: 0.6582\n",
            "Epoch 20/25\n",
            "227/227 [==============================] - 1s 6ms/step - loss: 2.0448 - accuracy: 0.6143 - val_loss: 1.4323 - val_accuracy: 0.6659\n",
            "Epoch 21/25\n",
            "227/227 [==============================] - 1s 6ms/step - loss: 1.2798 - accuracy: 0.6429 - val_loss: 1.6164 - val_accuracy: 0.6571\n",
            "Epoch 22/25\n",
            "227/227 [==============================] - 1s 6ms/step - loss: 1.1516 - accuracy: 0.6451 - val_loss: 1.0244 - val_accuracy: 0.5235\n",
            "Epoch 23/25\n",
            "227/227 [==============================] - 1s 6ms/step - loss: 1.2519 - accuracy: 0.6339 - val_loss: 0.7029 - val_accuracy: 0.6737\n",
            "Epoch 24/25\n",
            "227/227 [==============================] - 1s 6ms/step - loss: 1.0090 - accuracy: 0.6332 - val_loss: 1.6518 - val_accuracy: 0.5008\n",
            "Epoch 25/25\n",
            "227/227 [==============================] - 1s 6ms/step - loss: 0.7432 - accuracy: 0.6378 - val_loss: 0.6379 - val_accuracy: 0.6836\n"
          ]
        }
      ]
    },
    {
      "cell_type": "code",
      "source": [],
      "metadata": {
        "id": "W-7FA-GcC0H5"
      },
      "execution_count": null,
      "outputs": []
    },
    {
      "cell_type": "code",
      "source": [],
      "metadata": {
        "id": "IKh3OCwe-UHr"
      },
      "execution_count": null,
      "outputs": []
    },
    {
      "cell_type": "code",
      "source": [
        "##Plot the loss and accuracy\n",
        "plt.plot(history.history['val_loss'],label='Val_loss')\n",
        "plt.plot(history.history['loss'],label='train_loss')\n",
        "plt.legend()\n",
        "plt.show()"
      ],
      "metadata": {
        "colab": {
          "base_uri": "https://localhost:8080/",
          "height": 265
        },
        "id": "mGdEr2_E7MzW",
        "outputId": "c9c110b5-f51c-412e-e3d9-a2e9c7bf085b"
      },
      "execution_count": null,
      "outputs": [
        {
          "output_type": "display_data",
          "data": {
            "text/plain": [
              "<Figure size 432x288 with 1 Axes>"
            ],
            "image/png": "[encoded data removed]"
          },
          "metadata": {
            "needs_background": "light"
          }
        }
      ]
    },
    {
      "cell_type": "code",
      "source": [
        "y_pred=np.argmax(readmission.predict(X_test[fet]),axis=1)\n",
        "cm=confusion_matrix(y_test, y_pred)\n",
        "sns.heatmap(cm,annot=True)\n",
        "plt.show()"
      ],
      "metadata": {
        "colab": {
          "base_uri": "https://localhost:8080/",
          "height": 265
        },
        "id": "MPH4kpNt8L8r",
        "outputId": "5388e494-32ac-4936-e792-bb0df74c7b2a"
      },
      "execution_count": null,
      "outputs": [
        {
          "output_type": "display_data",
          "data": {
            "text/plain": [
              "<Figure size 432x288 with 2 Axes>"
            ],
            "image/png": "[encoded data removed]"
          },
          "metadata": {
            "needs_background": "light"
          }
        }
      ]
    },
    {
      "cell_type": "code",
      "source": [
        "test_loss, test_acc = readmission.evaluate(X_test[fet],  y_test, verbose=2)\n",
        "\n",
        "print('\\nTest accuracy:', test_acc)"
      ],
      "metadata": {
        "colab": {
          "base_uri": "https://localhost:8080/"
        },
        "id": "cXhzLq8M7t4g",
        "outputId": "eee84780-51d5-4c03-8ad9-8c73dcc3f106"
      },
      "execution_count": null,
      "outputs": [
        {
          "output_type": "stream",
          "name": "stdout",
          "text": [
            "762/762 - 2s - loss: 1.1714 - accuracy: 0.7225 - 2s/epoch - 3ms/step\n",
            "\n",
            "Test accuracy: 0.7224912047386169\n"
          ]
        }
      ]
    },
    {
      "cell_type": "code",
      "source": [
        "from sklearn.metrics import classification_report\n",
        "print(classification_report(y_test, y_pred))"
      ],
      "metadata": {
        "colab": {
          "base_uri": "https://localhost:8080/"
        },
        "id": "HZ4TdjSN7_T8",
        "outputId": "470ad78a-43e5-4054-9655-73246604a808"
      },
      "execution_count": null,
      "outputs": [
        {
          "output_type": "stream",
          "name": "stdout",
          "text": [
            "              precision    recall  f1-score   support\n",
            "\n",
            "           0       0.98      0.73      0.83     23468\n",
            "           1       0.08      0.61      0.14       906\n",
            "\n",
            "    accuracy                           0.72     24374\n",
            "   macro avg       0.53      0.67      0.49     24374\n",
            "weighted avg       0.95      0.72      0.81     24374\n",
            "\n"
          ]
        }
      ]
    },
    {
      "cell_type": "code",
      "source": [],
      "metadata": {
        "id": "iwHjEZzGEBr1"
      },
      "execution_count": null,
      "outputs": []
    }
  ],
  "metadata": {
    "colab": {
      "provenance": []
    },
    "kernelspec": {
      "display_name": "Python 3",
      "name": "python3"
    },
    "language_info": {
      "name": "python"
    }
  },
  "nbformat": 4,
  "nbformat_minor": 0
}